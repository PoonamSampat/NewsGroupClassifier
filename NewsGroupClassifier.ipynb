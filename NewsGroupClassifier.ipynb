{
 "cells": [
  {
   "cell_type": "code",
   "execution_count": 1,
   "metadata": {},
   "outputs": [],
   "source": [
    "from os import listdir\n",
    "from os.path import isfile, join\n",
    "import string"
   ]
  },
  {
   "cell_type": "code",
   "execution_count": 2,
   "metadata": {},
   "outputs": [],
   "source": [
    "my_path = '20_newsgroups'\n",
    "\n",
    "#creating a list of folder names to make valid pathnames later\n",
    "folders = [f for f in listdir(my_path)]"
   ]
  },
  {
   "cell_type": "code",
   "execution_count": 3,
   "metadata": {},
   "outputs": [
    {
     "data": {
      "text/plain": [
       "['alt.atheism',\n",
       " 'comp.graphics',\n",
       " 'comp.os.ms-windows.misc',\n",
       " 'comp.sys.ibm.pc.hardware',\n",
       " 'comp.sys.mac.hardware',\n",
       " 'comp.windows.x',\n",
       " 'misc.forsale',\n",
       " 'rec.autos',\n",
       " 'rec.motorcycles',\n",
       " 'rec.sport.baseball',\n",
       " 'rec.sport.hockey',\n",
       " 'sci.crypt',\n",
       " 'sci.electronics',\n",
       " 'sci.med',\n",
       " 'sci.space',\n",
       " 'soc.religion.christian',\n",
       " 'talk.politics.guns',\n",
       " 'talk.politics.mideast',\n",
       " 'talk.politics.misc',\n",
       " 'talk.religion.misc']"
      ]
     },
     "execution_count": 3,
     "metadata": {},
     "output_type": "execute_result"
    }
   ],
   "source": [
    "folders"
   ]
  },
  {
   "cell_type": "code",
   "execution_count": 4,
   "metadata": {},
   "outputs": [],
   "source": [
    "#Storing the filenames and their paths.\n",
    "\n",
    "files = []\n",
    "for folder_name in folders:\n",
    "    folder_path = join(my_path, folder_name)\n",
    "    files.append([f for f in listdir(folder_path)])"
   ]
  },
  {
   "cell_type": "code",
   "execution_count": 5,
   "metadata": {},
   "outputs": [],
   "source": [
    "#creating a list of pathnames of all the documents\n",
    "#this would serve to split our dataset into train & test later without any bias\n",
    "\n",
    "pathname_list = []\n",
    "for fo in range(len(folders)):\n",
    "    for fi in files[fo]:\n",
    "        pathname_list.append(join(my_path, join(folders[fo], fi)))"
   ]
  },
  {
   "cell_type": "code",
   "execution_count": 6,
   "metadata": {},
   "outputs": [],
   "source": [
    "#making an array containing the classes each of the documents belong to\n",
    "\n",
    "Y = []\n",
    "for folder_name in folders:\n",
    "    folder_path = join(my_path, folder_name)\n",
    "    num_of_files= len(listdir(folder_path))\n",
    "    for i in range(num_of_files):\n",
    "        Y.append(folder_name)"
   ]
  },
  {
   "cell_type": "code",
   "execution_count": 7,
   "metadata": {},
   "outputs": [],
   "source": [
    "from sklearn.model_selection import train_test_split"
   ]
  },
  {
   "cell_type": "code",
   "execution_count": 8,
   "metadata": {},
   "outputs": [],
   "source": [
    "#Splitting the dataset\n",
    "doc_train, doc_test, Y_train, Y_test = train_test_split(pathname_list, Y, random_state=0, test_size=0.25)"
   ]
  },
  {
   "cell_type": "code",
   "execution_count": 9,
   "metadata": {},
   "outputs": [],
   "source": [
    "stopwords = [\"i\",\"me\",\"my\",\"myself\",\"we\",\"our\",\"ours\",\"ourselves\",\"you\", \"your\", \"yours\" , \"yourself\", \"yourselves\", \"he\"         \"him\"        \"his\"        \"himself\"    \"she\"       \n",
    "  \"her\"   ,     \"hers\" ,      \"herself\" ,   \"it\" ,        \"its\"   ,     \"itself\"     \"they\"      , \"them\",\"their\",     \n",
    "  \"theirs\" ,    \"themselves\", \"what\"    ,   \"which\",      \"who\"    ,    \"whom\"       \"this\"     ,  \"that\" ,\"these\",     \n",
    " \"those\"    ,  \"am\"  ,       \"is\"   ,      \"are\"  ,      \"was\"    ,    \"were\"       \"be\"        , \"been\"  , \"being\",     \n",
    "  \"have\"     ,  \"has\"  ,      \"had\"  ,      \"having\",     \"do\"     ,    \"does\"       \"did\"      ,  \"doing\",\"would\",     \n",
    "  \"should\"   ,  \"could\"  ,    \"ought\" ,     \"i'm\" ,       \"you're\" ,    \"he's\"       \"she's\"    ,  \"it's\",\"we're\",     \n",
    "  \"they're\"  ,  \"i've\"    ,   \"you've\" ,    \"we've\"    ,  \"they've\" ,   \"i'd\"        \"you'd\"    ,  \"he'd\" ,\"she'd\",     \n",
    " \"we'd\"      , \"they'd\"   ,  \"i'll\"    ,   \"you'll\"   ,  \"he'll\"    ,  \"she'll\"     \"we'll\"     , \"they'll\",\"isn't\",     \n",
    "  \"aren't\"   ,  \"wasn't\"  ,   \"weren't\" ,   \"hasn't\"  ,   \"haven't\" ,   \"hadn't\"     \"doesn't\"   , \"don't\" ,\"didn't\",    \n",
    "  \"won't\"    ,  \"wouldn't\",   \"shan't\"  ,   \"shouldn't\" , \"can't\"   ,   \"cannot\"     \"couldn't\"  , \"mustn't\",\"let's\",     \n",
    " \"that's\"    , \"who's\"   ,   \"what's\"   ,  \"here's\"  ,   \"there's\"  ,  \"when's\"     \"where's\"  ,  \"why's\",\"how's\" ,    \n",
    " \"a\"         , \"an\"      ,   \"the\"      ,  \"and\"    ,    \"but\"     ,   \"if\"         \"or\"     ,    \"because\" ,\"as\",        \n",
    " \"until\"     , \"while\"   ,   \"of\"       ,  \"at\"    ,     \"by\"      ,   \"for\"        \"with\"   ,    \"about\",\"against\",   \n",
    "\"between\"    ,\"into\"     ,  \"through\"   , \"during\",     \"before\"   ,  \"after\"      \"above\"    ,  \"below\",\"to\" ,       \n",
    "\"from\"       ,\"up\"      ,   \"down\"      , \"in\"   ,      \"out\"     ,   \"on\"         \"off\"    ,    \"over\" , \"under\",     \n",
    "\"again\"      ,\"further\",    \"then\"       ,\"once\" ,      \"here\"   ,    \"there\"      \"when\"   ,    \"where\",  \"why\" ,      \n",
    "\"how\"        ,\"all\"   ,     \"any\"        ,\"both\",       \"each\"    ,   \"few\"        \"more\"  ,     \"most\" , \"other\",     \n",
    "\"some\"       ,\"such\" ,      \"no\"         ,\"nor\",        \"not\"     ,   \"only\"       \"own\"   ,     \"same\" ,  \"so\"   ,     \n",
    " \"than\"       ,\"too\",        \"very\"       ,\"will\", \"for\",\"this\" ,\"with\", \"they\", \"can\", \"there\", \"one\",\"two\",\"three\",\"when\", \n",
    "             \"just\", \"more\", \"were\", \"know\", \"only\", \"get\", \"think\", \"his\", \"also\", \"does\", \"use\", \"time\", \"now\",\"she\",\"her\",\"else\",\"above\"]"
   ]
  },
  {
   "cell_type": "code",
   "execution_count": 10,
   "metadata": {},
   "outputs": [],
   "source": [
    "#function to preprocess the words list to remove punctuations\n",
    "import nltk \n",
    "from nltk.stem import WordNetLemmatizer\n",
    "\n",
    "wordnet_lemmatizer = WordNetLemmatizer()\n",
    "def cleancorpus(words):\n",
    "    \n",
    "    #first we will try to filter out some  unnecessary data like tabs\n",
    "    table = str.maketrans('', '', '\\t')\n",
    "    words = [word.translate(table) for word in words]\n",
    "    \n",
    "    punctuations = (string.punctuation).replace(\"'\", \"\") \n",
    "    \n",
    "    trans_table = str.maketrans('', '', punctuations)\n",
    "    stripped_words = [word.translate(trans_table) for word in words]\n",
    "    \n",
    "    #remove whitespaces\n",
    "    words = [str for str in stripped_words if str]\n",
    "    \n",
    "    #map quotes to words who are single quoted.\n",
    "    p_words = []\n",
    "    for word in words:\n",
    "        if (word[0] and word[len(word)-1] == \"'\"):\n",
    "            word = word[1:len(word)-1]\n",
    "        elif(word[0] == \"'\"):\n",
    "            word = word[1:len(word)]\n",
    "        else:\n",
    "            word = word\n",
    "        p_words.append(word)\n",
    "    \n",
    "    words = p_words.copy()\n",
    "        \n",
    "    #remove just-numeric strings as they do not have any significant meaning in text classification\n",
    "    words = [word for word in words if not word.isdigit()]\n",
    "    \n",
    "    #remove single character strings\n",
    "    words = [word for word in words if not len(word) == 1]\n",
    "    \n",
    "    #remove words with 2 char length\n",
    "    words = [word for word in words if len(word) > 2]\n",
    "    \n",
    "    #remove empty strings\n",
    "    words = [str for str in words if str]\n",
    "    \n",
    "    #convert to lower case\n",
    "    words = [word.lower() for word in words]\n",
    "    \n",
    "    words = [wordnet_lemmatizer.lemmatize(word) for word in words]\n",
    "    \n",
    "    return words"
   ]
  },
  {
   "cell_type": "code",
   "execution_count": 11,
   "metadata": {},
   "outputs": [],
   "source": [
    "#function to remove stopwords\n",
    "\n",
    "def remove_stopwords(words):\n",
    "    words = [word for word in words if not word in stopwords]\n",
    "    return words"
   ]
  },
  {
   "cell_type": "code",
   "execution_count": 12,
   "metadata": {},
   "outputs": [],
   "source": [
    "#function to convert a sentence into list of words\n",
    "\n",
    "def tokenize_sentence(line):\n",
    "    words = line[0:len(line)-1].strip().split(\" \")\n",
    "    words = cleancorpus(words)\n",
    "    words = remove_stopwords(words)\n",
    "    \n",
    "    return words"
   ]
  },
  {
   "cell_type": "code",
   "execution_count": 13,
   "metadata": {},
   "outputs": [],
   "source": [
    "#function to remove metadata\n",
    "\n",
    "def remove_metadata(lines):\n",
    "    for i in range(len(lines)):\n",
    "        if(lines[i] == '\\n'):\n",
    "            start = i+1\n",
    "            break\n",
    "    new_lines = lines[start:]\n",
    "    return new_lines"
   ]
  },
  {
   "cell_type": "code",
   "execution_count": 14,
   "metadata": {},
   "outputs": [],
   "source": [
    "#function to convert a document into list of words\n",
    "\n",
    "def tokenize(path):\n",
    "    #load document as a list of lines\n",
    "    f = open(path, 'r', encoding='cp1252')\n",
    "    text_lines = f.readlines()\n",
    "    \n",
    "    #removing the meta-data at the top of each document\n",
    "    text_lines = remove_metadata(text_lines)\n",
    "    \n",
    "    #initiazing an array to hold all the words in a document\n",
    "    doc_words = []\n",
    "    \n",
    "    #traverse over all the lines and tokenize each one with the help of helper function: tokenize_sentence\n",
    "    for line in text_lines:\n",
    "        doc_words.append(tokenize_sentence(line))\n",
    "\n",
    "    return doc_words"
   ]
  },
  {
   "cell_type": "code",
   "execution_count": 15,
   "metadata": {},
   "outputs": [],
   "source": [
    "#a simple helper function to convert a 2D array to 1D, without using numpy\n",
    "\n",
    "def flatten(list):\n",
    "    new_list = []\n",
    "    for i in list:\n",
    "        for j in i:\n",
    "            new_list.append(j)\n",
    "    return new_list"
   ]
  },
  {
   "cell_type": "code",
   "execution_count": 16,
   "metadata": {},
   "outputs": [
    {
     "data": {
      "text/plain": [
       "20"
      ]
     },
     "execution_count": 16,
     "metadata": {},
     "output_type": "execute_result"
    }
   ],
   "source": [
    "len(folders)\n"
   ]
  },
  {
   "cell_type": "code",
   "execution_count": 17,
   "metadata": {
    "scrolled": false
   },
   "outputs": [],
   "source": [
    "list_of_words = []\n",
    "\n",
    "for document in doc_train:\n",
    "        list_of_words.append(flatten(tokenize(document)))"
   ]
  },
  {
   "cell_type": "code",
   "execution_count": 18,
   "metadata": {},
   "outputs": [
    {
     "data": {
      "text/plain": [
       "14997"
      ]
     },
     "execution_count": 18,
     "metadata": {},
     "output_type": "execute_result"
    }
   ],
   "source": [
    "len(list_of_words)"
   ]
  },
  {
   "cell_type": "code",
   "execution_count": 19,
   "metadata": {},
   "outputs": [
    {
     "data": {
      "text/plain": [
       "1916428"
      ]
     },
     "execution_count": 19,
     "metadata": {},
     "output_type": "execute_result"
    }
   ],
   "source": [
    "len(flatten(list_of_words))"
   ]
  },
  {
   "cell_type": "code",
   "execution_count": 20,
   "metadata": {},
   "outputs": [],
   "source": [
    "import numpy as np\n",
    "np_list_of_words = np.asarray(flatten(list_of_words))"
   ]
  },
  {
   "cell_type": "code",
   "execution_count": 21,
   "metadata": {},
   "outputs": [
    {
     "data": {
      "text/plain": [
       "137245"
      ]
     },
     "execution_count": 21,
     "metadata": {},
     "output_type": "execute_result"
    }
   ],
   "source": [
    "#finding the number of unique words that we have extracted from the documents\n",
    "\n",
    "words, counts = np.unique(np_list_of_words, return_counts=True)\n",
    "len(words)"
   ]
  },
  {
   "cell_type": "code",
   "execution_count": 22,
   "metadata": {},
   "outputs": [],
   "source": [
    "#sorting the unique words according to their frequency\n",
    "\n",
    "freq, wrds = (list(i) for i in zip(*(sorted(zip(counts, words), reverse=True))))"
   ]
  },
  {
   "cell_type": "code",
   "execution_count": 23,
   "metadata": {},
   "outputs": [],
   "source": [
    "f_o_w = []\n",
    "n_o_w = []\n",
    "for f in sorted(np.unique(freq), reverse=True):\n",
    "    f_o_w.append(f)\n",
    "    n_o_w.append(freq.count(f))"
   ]
  },
  {
   "cell_type": "code",
   "execution_count": 24,
   "metadata": {},
   "outputs": [
    {
     "data": {
      "image/png": "[encoded data removed]",
      "text/plain": [
       "<Figure size 432x288 with 1 Axes>"
      ]
     },
     "metadata": {
      "needs_background": "light"
     },
     "output_type": "display_data"
    }
   ],
   "source": [
    "import matplotlib.pyplot as plt\n",
    "%matplotlib inline\n",
    "y = f_o_w\n",
    "x = n_o_w\n",
    "plt.xlim(0,250)\n",
    "plt.xlabel(\"No. of words\")\n",
    "plt.ylabel(\"Freq. of words\")\n",
    "plt.plot(x, y)\n",
    "plt.grid()\n",
    "plt.show()"
   ]
  },
  {
   "cell_type": "code",
   "execution_count": 25,
   "metadata": {},
   "outputs": [
    {
     "name": "stdout",
     "output_type": "stream",
     "text": [
      "['wa', 'writes', 'article', 'ha', 'people', 'like', 'doe', 'say', 'make', 'right', 'good', 'thing', 'way', 'new', 'system', 'even', 'year', 'see', 'may', 'well', 'problem', 'work', 'want', 'many', 'much', 'god', 'first', 'need', 'file', 'did', 'anyone', 'said', 'used', 'after', \"ax'ax'ax'ax'ax'ax'ax'ax'ax'ax'ax'ax'ax'ax'ax\", 'window', 'question', 'take', 'really', 'point', 'believe', 'something', 'come', 'mean', 'still', 'since', 'please', 'number', 'day', 'program', 'him', 'state', 'back', 'government', 'find', 'look', 'game', 'going', 'email', 'might', 'law', 'part', 'information', 'using', 'better', 'case', 'fact', 'off', 'last', 'help', 'own', 'never', 'thanks', 'drive', 'give', 'must', 'read', 'sure', 'without', \"doesn't\", 'group', 'someone', 'another', 'car', 'made', 'lot', 'got', 'run', 'university', 'etc', 'line', 'world', 'word', 'reason', 'few', 'set', 'key', 'available', 'tell', 'life', 'however', 'data', 'anything', 'power', 'christian', 'little', 'opinion', 'book', 'around', 'try', 'computer', 'put', 'seems', 'name', 'place', 'true', 'call', 'probably', 'every', 'long', 'different', 'least', 'support', 'idea', 'course', 'best', 'post', 'actually', 'list', 'image', 'card', 'child', 'bit', 'space', 'enough', 'second', 'team', 'great', 'software', 'let', 'source', 'though', 'example', 'nothing', 'either', 'real', 'gun', 'far', 'version', 'jesus', 'person', 'david', 'end', 'claim', 'rather', 'keep', 'wrong', 'order', 'armenian', 'possible', \"i'd\", 'yes', 'issue', 'human', 'john', 'thought', 'called', 'others', 'chip', 'public', 'old', 'able', 'found', 'kind', 'free', 'change', 'start', 'value', 'ever', 'send', 'seen', 'hard', 'standard', 'machine', 'subject', 'done', 'maybe', 'man', 'show', 'bad', 'following', 'next', 'price', 'general', 'quite', 'answer', 'wrote', 'always', 'note', 'yet', 'american', 'phone', 'trying', 'le', 'heard', 'looking', 'science', 'whether', 'control', 'high', 'bill', 'given', 'jew', 'evidence', 'message', 'away', 'religion', 'matter', 'country', 'area', 'hand', 'seem', 'several', 'getting', 'user', 'type', 'cost', 'sound', 'home', 'disk', 'internet', 'address', 'saying', 'mail', 'left', 'service', 'application', 'big', 'remember', 'cause', 'cannot', 'perhaps', 'player', 'based', 'fire', 'result', 'copy', 'argument', 'box', 'research', 'church', 'company', 'today', 'driver', 'israel', 'view', 'bible', 'already', 'war', 'code', 'small', 'play', 'money', 'care', 'mind', 'hope', 'ask', 'feel', 'agree', 'national', 'stuff', 'week', 'side', 'told', 'love', 'local', 'mark', 'difference', 'month', 'ago', 'speed', 'center', 'guy', 'action', 'interested', 'large', 'running', 'statement', 'came', 'pretty', 'whole', 'pay', 'graphic', 'color', 'original', 'posting', 'current', 'belief', 'death', 'technology', 'member', 'president', 'buy', 'simply', 'news', 'often', 'truth', 'history', 'info', 'report', 'mac', 'open', 'full', 'live', 'everything', 'understand', 'including', 'force', 'woman', 'rule', 'sort', 'error', 'model', 'body', 'friend', 'fbi', 'everyone', 'effect', 'fax', 'started', 'important', 'almost', 'light', 'reference', 'term', 'act', 'situation', 'went', 'display', 'april', 'theory', 'study', 'black', 'server', 'include', 'certainly', 'turkish', 'event', 'working', 'discussion', 'although', 'package', 'instead', 'board', 'making', 'deal', 'muslim', 'guess', 'contact', 'win', 'comment', 'level', 'access', 'house', 'weapon', 'moral', 'job', 'device', 'consider', 'experience', 'turn', 'later', 'drug', 'position', 'monitor', 'memory', 'format', 'unless', 'faith', 'net', 'men', 'tried', 'private', 'christ', 'form', 'anyway', 'check', 'objective', 'write', 'offer', 'michael', 'paul', 'ftp', 'stop', 'test', 'city', 'major', 'single', 'israeli', 'head', 'jewish', 'mike', 'clear', 'religious', 'especially', 'sense', 'hit', 'nice', 'rate', 'steve', 'likely', 'couple', 'within', 'encryption', 'white', 'talking', 'talk', 'response', 'health', 'anybody', 'text', 'dead', 'story', 'similar', 'certain', 'earth', 'page', 'provide', 'common', 'bike', 'taken', 'site', 'police', 'fan', 'purpose', 'video', 'correct', 'individual', 'hell', 'reading', 'product', 'sun', \"he's\", 'road', 'ground', 'sell', 'among', 'saw', 'night', 'whatever', 'thus', 'arab', 'advance', 'killed', 'go', 'upon', 'school', 'simple', 'fine', 'period', 'exactly', 'asked', 'object', 'usually', 'known', 'network', 'crime', 'sorry', 'jim', 'via', 'mode', 'add', 'press', 'society', 'business', 'become', 'itself', 'mine', 'sale', 'took', 'size', 'process', 'reply', 'million', 'per', 'rest', 'move', 'screen', 'personal', 'hockey', 'us', 'function', 'scsi', 'hold', 'attack', 'particular', 'interesting', 'therefore', 'robert', 'third', 'hear', 'happened', 'policy', 'interest', 'past', 'kill', 'hardware', 'exist', 'according', 'wanted', 'return', 'face', 'security', 'happen', 'easy', 'sin', 'office', 'paper', 'shot', 'low', 'except', 'top', 'atheist', 'tax', 'section', 'red', 'plan', 'canada', 'field', 'method', 'fast', 'early', 'due', 'accept', 'frank', 'project', 'shall', 'season', 'date', 'longer', 'doubt', 'organization', 'choice', 'party', 'department', 'command', 'political', 'koresh', 'usa', 'land', 'recently', 'condition', 'written', 'specific', 'expect', 'goal', 'coming', 'arm', 'special', 'figure', 'insurance', 'future', 'entry', 'taking', 'save', 'lost', 'building', 'posted', 'lord', 'inc', 'worth', 'front', 'sometimes', 'four', 'radio', 'authority', 'peace', 'lead', 'font', 'clipper', 'short', 'united', 'option', 'official', 'manual', 'tape', 'league', 'total', 'resource', 'outside', 'gas', 'design', 'present', 'output', 'medical', 'hour', 'freedom', 'tool', 'water', 'chance', 'family', 'involved', 'series', 'clinton', 'various', 'faq', 'explain', 'detail', 'manager', 'assume', 'james', 'court', 'dave', 'attempt', 'request', 'engine', 'directory', 'federal', 'base', 'soon', 'necessary', 'cut', 'considered', 'thinking', 'along', 'father', 'plus', 'speak', 'quote', 'citizen', 'together', 'close', 'apple', 'york', 'himself', 'account', 'record', 'peter', 'cover', 'blue', 'deleted', 'military', 'build', 'algorithm', 'port', 'son', 'bus', 'performance', 'medium', 'widget', 'activity', 'picture', 'homosexual', 'amount', 'previous', 'behind', 'allow', 'willing', 'san', 'population', 'legal', \"couldn't\", 'class', 'voice', 'leave', 'includes', 'letter', 'clearly', 'meaning', 'knowledge', 'near', 'definition', 'brian', 'bob', 'wish', 'universe', 'library', 'needed', 'stand', 'food', 'appreciated', 'quality', 'christianity', 'sent', 'asking', 'greek', 'solution', 'minute', 'criminal', 'author', 'unit', 'currently', 'nature', 'young', 'strong', 'modem', 'door', 'division', 'community', 'washington', 'material', 'included', 'disclaimer', 'carry', 'otherwise', 'baseball', 'institute', 'exists', 'launch', 'higher', 'russian', 'mile', 'mass', 'completely', 'disease', 'decision', 'cable', 'student', 'ram', 'mentioned', 'language', 'fall', 'appears', 'operation', 'main', 'unix', 'abortion', 'useful', 'indeed', 'average', 'none', 'development', 'agent', 'document', 'living', 'complete', 'suggestion', 'effort', 'mouse', 'international', 'folk', 'communication', 'follow', 'air', 'basis', 'newsgroup', 'inside', 'basic', 'morality', 'hole', 'agency', 'built', 'existence', 'created', 'wonder', 'suggest', 'practice', 'normal', 'faster', 'vote', 'flame', 'break', 'bought', 'street', 'firearm', 'mention', 'secret', 'market', 'supposed', 'anonymous', 'room', 'die', 'wait', 'obviously', 'king', 'batf', 'patient', 'controller', 'printer', 'regard', 'create', \"god's\", 'gave', 'final', 'serious', 'difficult', 'looked', 'armenia', 'thank', 'finally', 'doctor', 'directly', 'volume', 'engineering', 'age', 'turkey', 'context', 'scientific', 'neither', 'fit', 'eye', 'owner', 'station', 'nation', 'motif', 'release', 'turk', 'reasonable', 'illegal', 'apr', 'required', 'learn', 'entire', 'increase', 'dealer', 'technical', 'extra', 'charge', 'feature', 'compound', 'lie', 'tom', 'responsible', 'reality', 'approach', 'whose', 'thousand', 'received', 'interface', 'dod', 'serial', 'input', 'changed', 'unfortunately', 'tank', 'writing', 'pick', 'ibm', 'half', 'wondering', 'prove', 'related', 'happens', 'genocide', 'environment', 'title', 'stated', 'america', 'aid', 'search', 'supply', 'commercial', 'lack', 'recent', 'bring', 'murder', 'hate', 'begin', 'allowed', 'wife', 'trouble', 'suppose', 'smith', 'easily', 'conclusion', 'addition', 'switch', 'reported', 'nazi', 'heaven', 'generally', 'safety', 'mission', 'designed', 'satellite', 'limited', 'knew', 'eric', 'defense', 'analysis', 'watch', 'leader', 'heart', 'bb', 'star', 'range', 'btw', 'suspect', 'evil', 'stupid', 'continue', 'client', 'apparently', 'treatment', 'administration', 'require', 'judge', 'thomas', 'alone', 'signal', 'nasa', 'late', 'forget', 'george', 'died', 'character', 'bank', 'setting', 'ide', 'vehicle', 'physical', 'california', 'ability', 'mother', 'happy', 'decided', 'village', 'usenet', 'toronto', 'obvious', 'matthew', 'andrew', 'property', 'killing', 'imagine', 'yeah', 'south', 'worked', 'palestinian', 'handle', 'north', 'congress', 'stay', 'starting', 'false', 'appear', 'privacy', 'germany', 'enforcement', 'conference', 'apply', 'scott', 'protect', 'lower', 'item', 'coverage', 'concept', 'avoid', 'installed', 'brought', 'across', 'excellent', 'wire', 'produce', 'block', 'art', 'degree', 'boston', 'amendment', 'scripture', 'chris', 'texas', 'archive', 'kid', 'worse', 'sex', 'middle', 'magazine', 'led', 'leaf', 'choose', '1st', 'oil', 'natural', 'gone', 'digital', 'print', 'piece', 'internal', 'beyond', 'held', 'foot', 'western', 'step', 'possibly', 'floppy', 'brother', 'limit', 'turned', 'trial', 'jon', 'respect', 'pas', 'contains', 'ten', 'risk', 'richard', 'west', 'college', 'basically', 'adam', 'proof', 'advice', 'former', 'equipment', 'circuit', 'blood', 'warrant', 'understanding', 'spirit', 'giving', 'appreciate', 'pain', 'trust', 'possibility', 'perfect', 'somebody', 'soldier', 'officer', 'logic', 'energy', 'ball', 'necessarily', 'hundred', 'east', 'dan', 'thread', 'earlier', 'cheap', 'beginning', 'responsibility', 'regarding', 'count', 'appropriate', 'provided', 'poor', 'green', 'particularly', 'fairly', 'soviet', 'shipping', 'meg', 'convert', 'requires', 'army', 'trade', 'cult', 'cpu', 'century', 'seriously', 'notice', 'european', 'caused', 'tim', 'somewhere', 'sign', 'playing', 'moment', 'lab', 'define', 'protection', 'played', 'joe', 'recall', 'effective', 'holy', 'draw', 'de', 'connection', 'prevent', 'civil', 'behavior', 'topic', 'straight', 'march', 'five', 'majority', 'german', 'distribution', 'described', 'greatly', 'catholic', 'absolutely', 'nhl', 'mailing', 'playoff', 'mormon', 'modern', 'homosexuality', 'hello', 'brain', 'battery', 'sold', 'regular', 'orbit', 'description', 'constitution', 'andor', 'wall', 'programming', 'pat', 'hey', 'bear', 'alternative', 'waco', 'serve', 'secure', 'realize', 'merely', 'europe', 'closed', 'shuttle', 'direct', 'civilian', 'absolute', 'considering', 'social', 'personally', 'keith', 'dog', 'scientist', 'ride', 'resolution', 'expensive', 'assuming', 'advantage', \"you'd\", 'published', 'frame', 'fear', 'chicago', 'aware', 'share', 'paid', 'measure', 'independent', 'gay', 'byte', 'branch', 'round', 'percent', 'drop', 'specifically', 'ray', 'meant', 'driving', 'committee', 'actual', 'justice', 'cancer', 'wing', 'bunch', 'mistake', 'loss', 'intended', 'decide', 'pin', \"we'll\", 'review', 'dept', 'concerned', 'won', 'verse', 'tel', 'parent', 'meet', 'instance', 'calling', 'transfer', 'provides', 'clock', 'table', 'spend', 'proper', 'morning', 'receive', 'popular', 'nsa', 'fund', 'forward', 'remote', 'discus', 'dangerous', 'added', 'cop', 'atheism', 'utility', 'developed', 'animal', 'pgp', 'jack', 'electronic', 'direction', 'town', 'towards', 'throw', 'safe', 'feeling', 'cup', 'beat', 'respond', 'newsgroups', 'multiple', 'impossible', 'hot', 'concern', 'factor', 'british', 'education', 'seeing', 'prefer', 'penalty', 'male', 'interpretation', 'canadian', 'allows', 'significant', 'reader', 'professor', 'kept', 'fully', 'argue', 'load', 'keyboard', 'benefit', 'warning', 'sport', 'race', 'ken', 'eternal', 'admit', '2nd', 'processing', 'principle', 'noticed', 'entirely', 'session', 'roman', 'mary', 'islam', 'fair', 'disagree', 'compared', 'born', 'nobody', 'terrorist', 'shown', 'mountain', 'claimed', 'assumption', 'doug', 'sexual', 'industry', 'fix', 'bug', 'besides', 'surface', 'stephen', 'latest', 'content', 'accepted', 'troop', 'separate', 'selling', 'joseph', 'whom', 'store', 'fight', 'failed', 'expert', 'buying', 'rob', 'properly', 'license', 'instruction', 'innocent', 'greater', 'creation', 'speaking', 'pressure', 'double', 'additional', 'path', 'hospital', 'slow', 'putting', 'physic', 'passage', \"o'dwyer\", 'movement', 'mostly', 'mhz', 'expected', 'escrow', 'easier', 'technique', 'reach', 'os2', 'msg', 'medicine', 'escape', 'armed', 'dollar', 'demand', 'six', 'nuclear', 'master', 'proposal', 'install', 'expressed', 'upgrade', 'poster', 'heat', 'attitude', 'tend', 'rock', 'relationship', 'microsoft', 'supported', 'gary', 'defined', 'stick', 'status', 'quick', 'jpeg', 'observation', 'noise', 'highly', 'fun', 'equal', 'telephone', 'luck', 'lee', 'jet', 'immediately', 'english', 'weight', 'routine', 'minor', 'external', 'capability', 'terminal', 'proposed', 'minority', 'lock', 'larry', 'judgement', 'generation', 'attention', 'yesterday', 'location', 'ticket', 'larger', 'flight', 'element', 'moon', 'knowing', 'conversation', 'border', 'valid', 'postscript', 'pittsburgh', 'missing', 'meeting', 'conflict', 'sunday', 'shell', 'score', 'van', 'training', 'remove', 'los', 'doctrine', 'despite', 'anywhere', 'accurate', 'vga', 'purchase', 'procedure', 'lose', 'debate', 'translation', 'foreign', 'engineer', 'requirement', 'released', 'pt', 'passed', 'moving', 'jeff', 'editor', 'edge', 'committed', 'believed', 'became', 'totally', 'somehow', 'quickly', 'host', 'background', 'victim', 'structure', 'setup', 'self', 'role', 'ready', 'compare', 'wide', 'seemed', 'island', 'islamic', 'guide', 'determine', 'damage', 'assault', 'ron', 'platform', 'opportunity', 'motherboard', 'hall', 'scheme', 'obtain', 'everybody', 'domain', 'aspect', 'xterm', 'intelligence', 'welcome', 'walk', 'typical', 'gif', 'evolution', 'connected', 'showed', 'roger', 'rocket', 'reaction', 'potential', 'detector', 'adl', 'neighbor', 'myers', 'drawing', 'worry', 'telling', 'keeping', 'definitely', 'alan', 'summary', 'spent', 'nearly', 'cross', 'button', 'began', 'statistic', 'pro', 'origin', 'dream', 'database', 'waste', 'tear', 'ranger', 'isa', 'fuel', 'finding', 'boy', 'william', 'threat', 'explanation', 'attorney', 'andy', 'random', 'listen', 'compatible', 'traffic', 'somewhat', 'marriage', 'journal', 'billion', 'baby', 'georgia', 'existing', 'excuse', '3rd', 'watching', 'waiting', 'shooting', 'manufacturer', 'laboratory', 'follows', 'corporation', 'clutch', 'afraid', 'eventually', 'channel', 'alive', 'blame', 'ahead', 'motorcycle', 'gotten', 'gmt', 'automatic', 'cold', 'wheel', 'recognize', 'radar', 'quoted', 'park', 'lived', 'frequency', 'culture', 'charles', 'usual', 'kent', 'hurt', 'employer', 'cheer', 'becomes', 'audio', 'standing', 'speech', 'solid', 'kevin', 'hearing', 'eat', 'component', 'uucp', 'target', 'success', 'sick', 'positive', 'libertarian', 'heavy', 'fed', 'export', 'bet', 'angeles', 'ran', 'pitcher', 'grant', 'documentation', 'davidians', 'atf', 'active', 'visual', 'territory', 'teach', 'summer', 'sample', 'planet', 'parallel', 'tire', 'temperature', 'teaching', 'sky', 'remain', 'raise', 'militia', 'handgun', 'seat', 'replaced', 'punishment', 'processor', 'massacre', 'gain', 'default', 'bother', 'agreement', 'abuse', 'witness', 'rich', 'plane', 'liberty', 'length', 'francisco', 'facility', 'depends', 'computing', 'pointed', 'normally', 'colour', 'carried', 'brave', 'truly', 'slightly', 'replace', 'prayer', 'pixel', 'ice', 'defend', 'clean', 'cheaper', 'soul', 'russia', 'okay', 'moved', 'huge', 'june', 'fault', 'detroit', 'bruce', 'plain', 'pitch', 'older', 'fee', 'exact', 'tradition', 'track', 'string', \"one's\", 'link', 'followed', 'daily', 'convention', 'broken', 'transmission', 'spec', 'complex', 'comparison', 'association', 'toward', 'sequence', 'relative', 'refer', 'incident', 'accident', 'strange', 'raised', 'professional', 'map', 'legitimate', 'imho', 'economic', 'brand', 'australia', 'worship', 'surely', 'rider', 'noted', 'int', 'infection', 'hardly', 'gateway', 'funny', 'don', 'brake', 'phil', 'patch', 'openwindows', 'missed', 'mechanism', 'fighting', 'failure', 'experiment', 'draft', 'corp', 'associated', 'wiretap', 'suggested', 'showing', 'saved', 'jehovah', 'greg', 'ford', 'distance', 'spring', 'remark', 'region', 'online', 'morris', 'jose', 'girl', 'crypto', 'cache', 'backup', 'annual', 'reduce', 'probe', 'onto', 'encrypted', 'chapter', 'capable', 'solar', 'paragraph', 'develop', 'auto', 'relevant', 'plug', 'paying', 'damn', 'cycle', 'boot', 'applied', 'simms', 'select', 'panel', 'ignore', 'felt', 'biblical', 'worst', 'prediction', 'management', 'investigation', 'initial', 'espn', 'director', 'amiga', 'style', 'operating', 'installation', 'decent', 'curious', 'correctly', 'bullet', 'budget', 'wave', 'violation', 'sig', 'ring', 'forced', 'claiming', 'cambridge', 'workstation', 'winning', 'presented', 'connector', 'cell', 'vancouver', 'sleep', 'primary', 'opposed', 'louis', 'liberal', 'join', 'iii', 'historical', 'guilty', 'fixed', 'desire', 'club', 'speaker', 'programmer', 'floor', 'violence', 'frankd012s658uucp', 'devil', 'daniel', 'connect', 'surprised', 'pull', 'match', 'extremely', 'enemy', 'consistent', 'configuration', 'cdrom', 'capital', 'acceptable', 'slave', 'sending', 'motion', 'jay', 'instrument', 'bay', 'stone', 'prophet', 'prior', 'powerful', 'perfectly', 'pen', 'macintosh', 'follower', 'discovered', 'suit', 'philadelphia', 'dealing', 'covered', 'contract', 'bmw', 'vitamin', 'ted', 'strongly', 'smaller', 'cap', 'camera', 'bios', 'band', 'tech', 'recommend', 'providing', 'named', 'binary', 'allen', 'afford', 'sentence', 'originally', 'newspaper', 'central', 'carrying', 'bell', 'stats', 'stage', 'relation', 'pray', 'nec', 'music', 'miller', 'max', 'gospel', 'gordon', 'concerning', 'assertion', 'menu', 'leading', 'jumper', 'injury', 'forever', 'corner', 'x11r5', 'variable', 'task', 'stream', 'production', 'manner', 'implementation', 'holding', 'hence', 'foundation', 'fail', 'discussed', 'collection', 'caught', 'bottom', 'bar', 'associate', 'anymore', 'zone', 'spread', 'ryan', 'relatively', 'regardless', 'neutral', 'mit', 'listed', 'favor', 'essentially', 'depending', 'dark', 'changing', 'bush', 'visible', 'stopped', 'overall', 'hitter', 'extension', 'established', 'contrary', 'variety', 'throughout', 'equivalent', 'electronics', 'colorado', 'circumstance', 'astronomy', 'announced', 'advanced', 'x11', 'twice', 'sitting', 'reliable', 'prophecy', 'ordered', 'occur', 'movie', 'fool', 'fly', 'ensure', 'compression', 'chemical', 'char', 'cal', 'azeri', 'adult', 'strike', 'rear', 'psalm', 'protocol', 'mar', 'dec', 'checked', 'toolkit', 'survivor', 'sufficient', 'slot', 'deep', 'birth', 'aside', 'apart', 'truck', 'revelation', 'reasoning', 'proven', 'produced', 'logical', 'laser', 'fundamental', 'focus', 'electrical', 'edition', 'danger', 'burned', 'azerbaijani', 'adapter', 'tony', 'stephanopoulos', 'offered', 'mask', 'learned', 'finger', 'testament', 'remains', 'montreal', 'maintain', 'inch', 'bos', 'shift', 'seek', 'resistance', 'placed', 'jason', 'hat', 'happening', 'weak', 'voltage', 'vision', 'promise', 'phrase', 'math', 'douglas', 'clayton', 'burst', 'unlike', 'surprise', 'root', 'register', 'impact', 'converter', 'ati', 'seven', 'exercise', 'enter', 'enjoy', 'virtual', 'scsi2', 'riding', 'pattern', 'latter', 'increased', 'distributed', 'atlanta', 'ancient', 'ship', 'shape', 'rom', 'joke', 'familiar', 'brad', 'amp', 'allowing', 'xsoviet', 'writer', 'wood', 'tower', 'shoot', 'shit', 'registration', 'plant', 'newsletter', 'msdos', 'mon', 'maximum', 'lawyer', 'kit', 'hiv', 'henry', 'guarantee', 'containing', 'careful', 'battle', 'tube', 'suicide', 'senate', 'removed', 'presence', 'ottoman', 'motor', 'career', 'burn', 'update', 'restriction', 'printing', 'ontario', 'notion', 'irrelevant', 'exception', 'edward', 'credit', 'applies', 'unto', 'trip', 'tree', 'tested', 'shareware', 'sea', 'republic', 'refuse', 'raid', 'occurs', 'martin', 'london', 'loaded', 'honda', 'hitting', 'hint', 'fill', 'driven', 'describe', 'craig', 'burning', 'zero', 'survey', 'spending', 'signature', 'seattle', 'prepared', 'portion', 'palestine', 'mirror', 'hebrew', 'fred', 'violent', 'secretary', 'publication', 'pass', 'frequently', 'echo', 'convinced', 'consideration', 'azerbaijan', 'univ', 'spot', 'rid', 'marc', 'honest', 'dictionary', 'conversion', 'contest', 'consequence', 'affect', 'symptom', 'sit', 'scale', 'rape', 'quadra', 'previously', 'plate', 'messiah', 'kingdom', 'illinois', 'dont', 'convince', 'contain', 'coach', 'candidate', 'xview', 'repeat', 'purchased', 'ignorance', 'cool', 'buffer', 'unable', 'turbo', 'taught', 'subjective', 'plenty', 'plastic', 'phenomenon', 'met', 'matt', 'istanbul', 'index', 'destroyed', 'dennis', 'customer', 'clh', \"bd's\", 'unlikely', 'representative', 'literature', 'economy', 'duty', 'cramer', 'buck', 'angel', 'stanley', 'shop', 'rick', 'referring', 'primarily', 'philosophy', 'permit', 'obtained', 'justify', 'july', 'intent', 'grace', 'drink', 'crash', 'brown', 'bosnia', 'xlib', 'understood', 'supposedly', 'sector', 'replacement', 'helpful', 'gravity', 'commandment', 'carefully', 'att', 'agreed', 'spacecraft', 'minnesota', 'hill', 'continued', 'announcement', 'wisdom', 'theist', 'southern', 'priest', 'mathew', 'highest', 'glad', 'elohim', 'believing', 'automatically', 'wiring', 'winner', 'treat', 'signed', 'shared', 'planning', 'negative', 'loop', 'indicate', 'hitler', 'granted', 'french', 'filter', 'extreme', 'chief', 'category', 'bruin', 'blow', 'suffering', 'stock', 'polygon', 'perspective', \"people's\", 'hopefully', 'france', 'fired', 'complaint', 'checking', 'bond', 'assumed', 'appeared', 'staff', 'lay', 'johnson', 'jerusalem', 'japanese', 'holocaust', 'greece', 'buffalo', 'wonderful', 'storage', 'regulation', 'nick', 'luke', 'imply', 'gear', 'equally', 'defensive', 'chain', 'bomb', 'atom', 'wayne', 'union', 'testing', 'terrorism', 'stolen', 'serb', 'sad', 'perform', 'outlet', 'orthodox', 'occupied', 'lady', 'impression', 'grenade', 'expansion', 'bat', 'apartment', 'unknown', 'sweden', 'successful', 'split', 'senior', 'saint', 'reduced', 'null', 'immoral', 'hypothesis', 'helmet', 'fellow', 'core', 'campaign', 'bag', 'tie', 'served', 'pointer', 'percentage', 'patrick', 'leaving', 'lake', 'helped', 'harm', 'funding', 'firm', 'finish', 'february', 'describes', 'chose', 'bitnet', 'biggest', 'bigger', 'accuracy', 'reflect', 'pitching', 'pair', 'explained', 'diet', 'copyright', 'talked', 'offensive', 'offense', 'metal', 'lying', 'jump', 'insert', 'importance', 'friday', 'eisa', 'effectively', 'council', 'correction', 'conservative', 'challenge', 'believer', 'visit', 'lunar', 'learning', 'iran', 'followup', 'exchange', 'eastern', 'det', 'december', 'daughter', 'circle', 'belong', 'viewer', 'treated', 'thou', 'swap', 'rational', 'progress', 'planned', 'ottawa', 'opening', 'lucky', 'justification', 'giant', 'destruction', 'crazy', 'chosen', 'animation', 'skill', 'serdar', 'rsa', 'returned', 'resurrection', 'reached', 'practical', 'picked', 'lebanon', 'intel', 'improve', 'global', 'dozen', 'deny', 'cryptography', 'controlled', 'whenever', 'wear', 'usage', 'trick', 'stuck', 'sony', 'slower', 'similarly', 'satan', 'reverse', 'presumably', 'opened', 'minister', 'mainly', 'forum', 'ear', 'cub', 'catch', 'bitmap', 'amateur', 'thrown', 'senator', 'scoring', 'proceeded', 'premise', 'pope', 'plot', 'miss', 'fourth', 'flat', 'existed', 'england', 'cry', 'contradiction', 'turning', 'strip', 'skin', 'silly', 'significantly', 'scored', 'rose', 'ripem', 'penguin', 'module', 'hst', 'generate', 'fails', 'critical', 'confused', 'compromise', 'cat', 'supporting', 'strategy', 'spiritual', 'sox', 'socket', 'sandviknewtonapplecom', 'represent', 'que', 'push', 'physician', 'perry', 'permission', 'partner', 'packet', 'opposite', 'motorola', 'elsewhere', 'duo', 'divine', 'deserve', 'decade', 'combination', 'captain', 'answered', 'spencer', 'shut', 'politics', 'developing', 'broke', 'aaron', '24bit', 'wild', 'quantum', 'patent', 'introduction', 'gonna', 'feed', 'extended', 'destroy', 'desktop', 'accelerator', 'vendor', 'suck', 'steven', 'selection', 'pit', 'managed', 'ideal', 'flow', 'ethnic', 'crowd', 'camp', 'affair', 'winnipeg', 'widely', 'universal', 'touch', 'subscribe', 'recommended', 'protected', 'printed', 'prime', 'oname', 'non', 'mouth', 'minimum', 'icon', 'era', 'depth', 'clinical', 'chemistry', 'beast', 'attacked', 'worker', 'virtually', 'stored', 'socalled', 'reno', 'paint', 'lawrence', 'interview', 'improvement', 'determined', 'comic', 'classified', 'centre', 'catalog', 'app', 'useless', 'surrender', 'sternlight', 'salt', 'moslem', 'located', 'huh', 'hoping', 'height', 'film', 'favorite', 'extent', 'dear', 'broadcast', 'bound', 'assembly', 'acid', 'weekend', 'traded', 'tor', 'smoke', 'resulting', 'repair', 'referred', 'lebanese', 'header', 'hacker', 'gaza', 'gang', 'employee', 'bosnian', 'wearing', 'thanx', 'superior', 'smart', 'ridiculous', 'revolution', 'reserve', 'propaganda', 'precisely', 'pool', 'performed', 'passing', 'organized', 'observed', 'newer', 'listening', 'implement', 'closer', 'assistance', 'argic', 'appeal', \"ain't\", 'sheet', 'rifle', 'photo', 'ignorant', 'furthermore', 'fallacy', 'ethernet', 'empire', 'crack', 'canon', 'bullock', 'wind', 'traditional', 'till', 'tactic', 'stereo', 'prison', 'murray', 'lewis', 'jersey', 'infant', 'indicates', 'husband', 'forth', 'finished', 'eating', 'diamond', 'cursor', 'chi', 'centris', 'award', 'sinner', 'scsi1', 'russell', 'reject', 'phase', 'observer', 'numerous', 'knife', 'hawk', 'famous', 'essential', 'eight', 'discussing', 'cultural', 'amazing', 'adding', 'zionist', 'suddenly', 'substance', 'spoke', 'specification', 'rise', 'highway', 'hide', 'gamma', 'creating', 'cloud', 'cartridge', 'breaking', 'batting', 'array', 'taste', 'sake', 'refused', 'portable', 'parameter', 'formed', 'evening', 'election', 'doc', 'disciple', 'converted', 'arrest', 'vlb', 'typically', 'tartar', 'solve', 'shark', 'schedule', 'saving', 'salvation', 'researcher', 'occupation', 'karl', 'jonathan', 'janet', 'issued', 'francis', 'forgot', 'entity', 'dean', 'colormap', 'becoming', 'atmosphere', 'apps', \"today's\", 'recognized', 'quit', 'passenger', 'odd', 'nonsense', 'leadership', 'islander', 'horizon', 'harder', 'handling', 'difficulty', 'crap', 'apostle', 'walker', 'tiff', 'sam', 'rumor', 'randy', 'married', 'logo', 'incorrect', 'identical', 'hidden', 'greatest', 'gift', 'ended', 'dare', 'burden', 'approved', 'apparent', 'wolverine', 'uniform', 'supreme', 'suggests', 'scene', 'owned', 'january', 'involve', 'generated', 'florida', 'finland', 'fell', 'dropped', 'drawn', 'custom', 'contribution', 'continues', 'clue', 'unusual', 'talent', 'sunos', 'river', 'receiving', 'pure', 'manipulation', 'leg', 'influence', 'guaranteed', 'flying', 'exit', 'empty', 'electric', 'educational', 'blind', 'austin', 'august', 'travel', \"she's\", 'scholar', 'recommendation', 'pad', 'losing', 'flag', 'comprehensive', 'bobby', 'antenna', 'angle', 'advocate', 'weird', 'suffer', 'silver', 'selected', 'screw', 'republican', 'quebec', 'pulled', 'ordinary', 'operator', 'nra', 'jerry', 'immediate', 'grand', 'fat', 'dry', 'demo', 'dale', 'construction', 'calgary', 'ban', 'attached', 'ahl', 'warranty', 'tough', 'tap', 'rely', 'registered', 'puck', 'pound', 'ohanus', 'ministry', 'label', 'jones', 'heck', 'fpu', 'commitment', 'cnn', 'arguing', 'appearance', 'aka', 'wise', 'spare', 'sgi', 'severe', 'revealed', 'remaining', 'quiet', 'pipe', 'nine', 'laugh', 'justified', 'investment', 'intelligent', 'institution', 'inning', 'hang', 'drag', 'wound', 'vram', 'vol', 'virginia', 'ultra', 'tonight', 'throwing', 'threw', 'struggle', 'square', 'rating', 'promised', 'monday', 'manage', 'identify', 'houston', 'express', 'dynamic', 'baltimore', 'attempting', 'appressian', 'williams', 'tired', 'testimony', 'spectrum', 'silence', 'rev', 'northern', 'miracle', 'letting', 'imaging', 'gerald', 'gene', 'complain', 'commit', 'classic', 'artificial', 'tuesday', 'sensor', 'secular', 'route', 'native', 'interactive', 'harry', 'guard', 'female', 'explicitly', 'dma', 'conviction', 'compiler', 'competition', 'campus', 'brett', 'agenda', 'absurd', 'yeast', 'watt', 'television', 'scorer', 'saturday', 'santa', 'prince', 'pop', 'meter', 'massive', 'legally', 'launcher', 'infinite', 'idle', 'glory', 'constant', 'compile', 'cobb', 'closely', 'champion', 'carl', 'behaviour', 'analogy', 'abc', 'whoever', 'utah', 'twin', 'super', 'suite', 'saturn', 'sahak', 'risc', 'pete', 'opposition', 'melkonian', 'measurement', 'linux', 'intend', 'hook', 'hmmm', 'gold', 'fifth', 'esus', 'dick', 'detailed', 'cylinder', 'criticism', 'constitutional', 'compuserve', 'cipher', '4th', 'teacher', 'shaft', 'scan', 'rush', 'roy', 'raw', 'prof', 'presentation', 'netters', 'indication', 'implies', 'implication', 'implemented', 'hotel', 'glass', 'dying', 'distinction', 'delivery', 'deficit', 'chinese', 'awful', 'apology', 'terrible', 'snow', 'reform', 'purely', 'preferred', 'pocket', 'listing', 'initiative', 'idiot', 'experimental', 'everywhere', 'dispute', 'conclude', 'capacity', 'buf', 'balance', 'avenue', 'venus', 'valuable', 'unique', 'suffered', 'stable', 'profit', 'permanent', 'nose', 'membership', 'japan', 'inhabitant', 'humanity', 'goalie', 'expression', 'depend', 'denied', 'democracy', 'criterion', 'characteristic', 'carter', 'beer', 'abstract', '8bit', 'vesa', 'surgery', 'receiver', 'reasonably', 'occurred', 'mount', 'modified', 'michigan', 'marketing', \"man's\", 'detect', 'davis', 'commonly', 'combined', 'clark', 'cite', 'bias', 'approximately', 'anderson', 'academic', 'worried', 'wilson', 'survive', 'scanner', 'sacrifice', 'roughly', 'revolver', 'rarely', 'rare', 'min', 'mental', 'mag', 'lemieux', 'kenneth', 'horrible', 'gee', 'fluid', 'entered', 'einstein', 'diego', 'ave', 'xtermination', 'updated', 'tip', 'timothy', 'therapy', 'svga', 'steel', 'specify', 'slaughter', 'sean', 'reporter', 'repeated', 'rejected', 'propulsion', 'oul', 'mix', 'liked', 'jackson', 'grow', 'estimate', 'establish', 'entitled', 'conspiracy', 'conduct', 'attribute', 'youth', 'watched', 'thursday', 'thru', 'theology', 'stealth', 'speculation', 'sir', 'shoulder', 'roll', 'password', 'ohio', 'neat', 'mustang', 'liar', 'edmonton', 'dimension', 'davidian', 'covenant', 'confusion', 'columbia', 'causing', 'vertical', 'stupidity', 'serf', 'sabbath', 'ratio', 'protestant', 'premium', 'planetary', 'objectively', 'mutual', 'kurd', 'invasion', 'income', 'ignored', 'horizontal', 'expose', 'bone', 'binding', 'beach', 'upset', 'strength', 'seal', 'runner', 'rendering', 'quantity', 'quack', 'persecution', 'pack', 'orientation', 'mathematics', 'knock', 'intellectual', 'hulk', 'hatred', 'grab', 'gant', 'fundamentalist', 'developer', 'county', 'concrete', 'christopher', 'bright', 'biased', 'beautiful', 'arrogant', 'whereas', 'syndrome', 'switzerland', 'suitable', 'sincerely', 'objection', 'legislation', 'lane', 'informed', 'ghost', 'freely', 'flyer', 'exposure', 'complicated', 'cobbalexialisuiucedu', 'clone', 'brief', 'ames', 'x11r4', 'visualization', 'vast', 'vary', 'trace', 'stood', 'shotgun', 'sabre', 'rochester', 'resident', 'pushed', 'publisher', 'predict', 'nyi', 'junk', 'hmm', 'filled', 'figured', 'compiled', 'comparable', 'cellular', 'bombing', 'beam', 'advertising', 'acting', '32bit', 'yankee', 'tone', 'substantial', 'submit', 'nubus', 'mechanic', 'magic', 'log', 'jan', 'irrational', 'involves', 'intention', 'growth', 'fanatic', 'efficient', 'domestic', 'deletion', 'consumer', 'confusing', 'bullshit', 'asks', 'alleged', 'affected', 'virus', 'toyota', 'tomorrow', 'theism', 'temple', 'strictly', 'regularly', 'opponent', 'officially', 'october', 'nowhere', 'naturally', 'login', 'livesey', 'layer', \"koresh's\", \"israel's\", 'isbn', 'introduced', 'hicnet', 'henryzootorontoedu', \"hadn't\", 'genesis', 'filename', 'emphasis', 'differently', 'carrier', 'arrived', 'ama', 'adaptec', 'achieve', 'todd', 'tobacco', 'stl', 'specified', 'repeatedly', 'removing', 'refers', 'realized', 'perception', 'participate', 'mystery', 'labor', 'ira', 'helping', 'guideline', 'friendly', 'experienced', 'demonstrated', 'democratic', 'curve', 'whatsoever', 'voting', 'train', 'timer', 'rent', 'proud', 'neck', 'loved', 'impressed', 'imo', 'gerard', 'fish', 'exhaust', 'drove', 'describing', 'cooperation', 'chronic', 'baptism', 'bandwidth', 'automobile', 'attacking', 'alot', 'alcohol', 'wednesday', 'weather', 'v32bis', 'trend', 'tied', 'temporary', 'symbol', 'responding', 'represents', 'proved', 'preferably', 'pointing', 'orbital', 'needle', 'murdered', 'minimal', 'josh', \"it'll\", 'healthy', 'gregg', 'equation', 'directed', 'concealed', 'boulder', 'analog', 'volunteer', 'switching', 'sumgait', 'stronger', 'quarter', 'physicist', 'mitchell', 'limitation', 'lesson', 'launched', 'joint', 'iron', 'hair', 'garbage', 'environmental', 'cage', 'ascii', 'africa', 'winter', 'upper', 'thats', 'requested', 'render', 'relativism', 'possession', 'outcome', 'norton', 'navy', 'mess', 'meaningless', 'linked', 'judgment', 'hudson', 'horse', 'homeland', 'ham', 'growing', 'gopher', 'geometry', 'galaxy', 'flash', \"else's\", 'disaster', 'converting', 'comet', 'clinic', 'candida', 'blah', 'alarm', 'tends', 'sword', 'spy', 'row', 'remind', 'probability', 'phd', 'particle', 'myth', 'mechanical', 'mario', 'largely', 'insist', 'indian', 'improved', 'heterosexual', 'graham', 'gate', 'feb', 'edit', 'district', 'derek', 'dallas', 'cyprus', 'contribute', 'contained', 'compressed', 'chuck', 'bed', 'ultimate', 'torture', 'silicon', 'script', 'revenue', 'politician', 'paranoid', 'mounted', 'incredibly', 'honor', 'gulf', 'fantasy', 'expo', 'executive', 'encourage', 'eff', 'crystal', 'convenient', 'champ', 'busy', 'belt', 'ankara', 'yassin', 'victory', 'telescope', 'startup', 'specie', 'soft', 'simon', 'shadow', 'radius', 'payload', 'oiler', 'moses', 'mathematical', 'liveseysolntzewpdsgicom', 'interpret', 'indicated', 'increasing', 'hanging', 'egypt', 'deskjet', 'consent', 'chamber', 'cash', 'brent', 'availability', 'alien', 'alexander', 'walking', 'valve', 'tiny', 'stating', 'starter', 'responded', 'protecting', 'poll', 'phill', 'pd', 'nut', 'november', 'norway', 'muscle', 'lately', 'kinda', 'jefferson', 'irvine', 'identified', 'handler', \"government's\", 'garage', 'exportlcsmitedu', 'ethic', 'engaged', 'discrimination', 'delay', 'contrast', 'continuing', 'commentary', 'assert', 'ala', 'wright', 'wounded', 'sparc', 'sacred', 'licensed', 'lamp', 'ignoring', 'farm', 'elected', 'cooling', 'cleveland', 'bull', 'batter', 'barry', 'attempted', 'atomic', 'arbitrary', 'widespread', 'trigger', 'ton', 'thy', 'thee', 'teeth', 'rushdie', 'regarded', 'provision', 'pixmap', 'pirate', 'occasion', 'observe', 'nevertheless', 'mvp', 'invented', 'independence', 'govt', 'formula', 'extensive', 'emotional', 'emergency', 'documented', 'displayed', 'cure', 'conventional', 'conscience', 'capture', 'beating', 'attributed', 'assumes', 'albert', 'trap', 'tragedy', 'scratch', 'sat', 'relief', 'reduction', 'publicly', 'personnel', 'optional', 'jury', 'judged', 'import', 'hughes', 'howard', 'expense', 'discount', 'consensus', 'com', 'column', 'click', 'blown', 'biology', 'berkeley', 'athens', 'arena', 'annoying', 'alomar', 'warren', 'telnet', 'sum', 'steal', 'screwed', 'proceeding', 'priority', 'ownership', 'negotiation', 'naval', 'nasty', 'modify', 'landing', 'interrupt', 'identity', 'hung', 'heavily', 'gentile', 'fuhr', 'examine', 'delete', 'collect', 'cited', 'charged', 'buyer', 'bulletin', 'bradley', 'biological', 'bastard', 'badly', 'anger', 'viewpoint', 'vaccine', 'tommy', 'steering', 'siggraph', 'shock', 'shame', 'settlement', 'seed', 'scope', 'protest', 'prevented', \"paul's\", 'opposing', 'neil', 'motto', 'loose', 'linear', 'lens', 'italy', 'forgotten', 'firing', 'fewer', 'feedback', 'factory', 'excerpt', 'electron', 'defending', 'crew', 'comparing', 'clemens', 'catcher', 'cast', 'bryan', 'brings', 'breast', 'blank', 'billboard', 'beta', 'baku', 'width', 'volt', 'viewing', 'valley', 'successfully', 'sight', \"qur'an\", 'promote', 'preserve', 'peaceful', 'mob', 'mets', 'jordan', 'jail', 'involving', 'implied', 'illness', 'golden', 'founded', 'football', 'fiction', 'dumb', 'deserves', 'creature', 'conductor', 'ben', 'anthony', 'administrator', 'worthless', 'warm', 'void', 'vice', 'umpire', 'transaction', 'titan', 'timing', 'tight', 'tiger', 'surveillance', 'slip', 'restaurant', 'producing', 'photography', 'phigs', 'pacific', 'necessity', 'mat', 'literally', 'karabakh', 'jake', 'iraq', 'interference', 'impressive', 'iisi', 'headache', 'handled', 'financial', 'falling', 'dust', 'discharge', 'dialog', 'desk', 'desert', 'derived', 'deliberately', 'dcx', 'constantly', 'chair', 'britain', 'bd', 'audience', 'alpha', 'african', 'ad', 'zealand', 'wow', 'wondered', 'versus', 'suspension', 'storm', 'slowly', 'rough', 'resistor', 'radiation', 'pushing', 'preference', 'operate', 'motivation', 'maynard', 'maintained', 'juda', 'homicide', 'exploration', 'encouraged', 'dual', 'deed', 'contradictory', 'communist', 'butt', 'banned', 'admitted', 'addressed', 'ultimately', 'theoretical', 'syria', 'speaks', 'significance', 'september', 'sept', 'ruling', 'ruin', 'rotation', 'racism', 'query', 'prize', 'pc', 'mileage', 'lifetime', 'jacket', 'inquiry', 'honestly', 'graduate', 'gotta', 'formal', 'fancy', 'exposed', 'enhanced', 'desired', 'convincing', 'consists', 'conducted', 'charter', 'belongs', 'announcing', 'worthy', 'surrounding', 'skepticism', 'sharp', 'searching', 'scenario', 'reserved', 'rep', 'psychological', 'overhead', 'obo', 'nearby', 'mph', 'mapping', 'journalist', 'glove', 'generator', 'gathered', 'flesh', 'expand', 'evelyn', 'easter', 'dump', 'dogma', 'dir', 'comfortable', 'championship', 'assistant', 'asshole', 'allocation', 'zionism', 'verify', 'taylor', 'surprising', 'spelling', 'scicrypt', 'scheduled', 'royal', 'rgb', 'rbi', 'primitive', 'pitt', 'mere', 'manufacture', 'loving', \"john's\", 'jimmy', 'intellect', 'ink', 'hen', 'handy', 'grade', 'gilmour', 'funded', 'flaming', 'fate', 'entering', 'demonstrate', 'danny', 'covering', 'counter', 'configsys', 'coast', 'cdc', 'bps', 'violated', 'supporter', 'sue', 'serbian', 'sensitive', 'sealed', 'plausible', 'phillies', 'payment', 'oppose', 'neighborhood', 'milwaukee', 'joel', 'insult', 'installing', 'insight', 'incredible', 'hunter', 'habit', 'graph', 'fighter', 'explosive', 'div', 'demonstration', 'confirmed', \"christ's\", 'bureau', 'breaker', 'blessed', 'baud', 'approval', 'ann', 'angry', 'ally', 'walked', 'trained', 'threatened', 'tampa', 'stove', 'smooth', 'silent', 'shameful', 'reset', 'requiring', 'reporting', 'regional', 'regime', 'ralph', 'pulling', 'pink', 'personality', 'nixon', 'mathewmantiscouk', 'mankind', 'largest', 'kick', 'judaism', 'holland', 'guilt', 'greeting', 'elia', 'dedicated', 'creates', 'condemned', 'canuck', 'calculation', 'broad', 'boundary', 'bearing', 'arrogance', 'acceptance', 'xwindows', 'vector', 'transmitted', 'terry', 'tail', 'stretch', 'sometime', 'slight', 'simulation', 'segment', 'reveal', 'removal', 'realtime', 'readme', 'racist', 'prejudice', 'powerbook', 'pissed', 'participant', 'namely', 'mswindows', 'moscow', 'molecular', 'liefeld', 'layout', 'kidney', 'irq', 'iranian', 'investigator', 'intervention', 'inner', 'injured', 'horn', 'explosion', 'dirty', 'dirt', 'cook', 'collision', 'cia', 'bringing', 'bottle', 'baptist', 'atlantic', 'altatheism', 'worthwhile', 'triangle', 'thermal', 'tcpip', 'stewart', 'sister', 'serving', 'separation', 'secondly', 'samuel', 'revised', 'resolve', 'reliability', 'refugee', 'recorded', 'quoting', 'publish', 'propose', 'pregnancy', 'pilot', 'ozone', 'offering', 'odwyersseie', 'obey', 'microwave', 'malcolm', 'ltd', 'liver', 'ksand', 'knocked', 'integrated', 'initially', 'hatching', 'grey', 'forcing', 'exhibit', 'escaped', 'eofnotok', 'eliminate', 'edt', 'diagram', 'crisis', 'conlon', 'balcony', 'arizona', 'alink', 'aircraft', '7th', 'xdm', 'wanting', 'virgin', 'tempest', 'switched', 'sudden', 'struck', 'static', 'stan', 'spiderman', 'simultaneously', 'shouting', 'secondary', 'rookie', 'rome', 'retail', 'relating', 'readily', 'pump', 'psychology', 'prohibit', 'philip', 'peak', 'nelson', 'monthly', 'mcconkie', 'mainstream', 'jupiter', 'interpreted', 'imagination', 'har', 'grateful', 'fatal', 'fame', 'evans', 'dependent', 'deeply', 'cutting', 'croat', 'consistently', 'compelled', 'bmp', 'architecture', 'archie', 'addressing', 'welfare', 'undefined', 'subscription', 'solved', 'solely', 'scispace', 'ruled', 'raster', 'orbiter', 'noone', 'meat', 'maryland', 'marked', 'maintaining', 'loud', 'ill', 'highspeed', 'hammer', 'hamilton', 'gui', 'grain', 'genetic', 'fallen', 'essence', 'emotion', 'differential', 'diagnosis', 'declare', 'considerably', 'clothes', 'clip', 'capacitor', 'assist', 'achieved', 'waited', 'voted', 'variation', \"user's\", 'typing', 'tolerance', 'supplied', 'suggesting', \"someone's\", 'sink', 'sharing', 'seizure', 'seeking', 'riot', 'rice', 'restrict', 'replied', 'pulse', 'pretend', 'picking', 'nichols', 'motivated', 'merit', 'maynardramseycslaurentianca', 'judging', 'involvement', 'hopkins', 'hire', 'gut', 'gray', 'generic', 'flaw', 'eve', 'drunk', 'density', 'defines', 'defeat', 'cruel', 'confidence', 'cleaning', 'callback', 'altitude', 'adequate', 'worldwide', 'weakness', 'wake', 'venture', 'unreasonable', 'substitute', 'subsequent', 'spoken', 'satisfied', 'sandvik', 'rod', 'quicktime', 'physically', 'philosopher', 'oriented', 'nov', 'notebook', 'moreover', 'massachusetts', 'mad', 'longterm', 'jurisdiction', 'jagr', 'inspired', 'industrial', 'horror', 'homer', 'halat', 'gretzky', 'gcc', 'formation', 'explains', 'expectation', 'execution', 'employed', 'disc', 'defenseman', 'contrib', 'consultant', 'conscious', 'axe', 'atrocity', 'apologize', 'ammunition', 'adobe', 'acceleration', 'wwii', 'trash', 'translated', 'song', 'slide', 'shield', 'separately', 'sender', 'salary', 'roof', 'rkba', 'province', 'plaintext', 'parking', 'organism', 'nope', 'node', 'nationality', 'mistaken', 'measured', 'lunch', 'larson', 'josephus', 'indicator', 'historian', 'hallambaker', 'garden', 'fascist', 'executed', 'exclusively', 'evaluation', 'encounter', 'digest', 'decrease', 'dawn', 'covington', 'coordinate', 'christmas', 'cent', 'backed', 'atmospheric', 'antibiotic', 'allan', '16bit', 'yamaha', \"women's\", 'weaver', 'velocity', 'unfortunate', 'swing', 'swedish', 'strnlghtnetcomcom', 'sooner', 'socialist', 'singer', 'sigh', 'reward', 'resulted', 'redesign', 'racial', 'publishing', 'pistol', \"pc's\", 'noknock', 'narrow', 'lift', 'lds', 'infrastructure', 'inferior', 'hunting', 'hostile', 'grounding', 'flexible', 'fled', 'fidonet', 'fashion', 'faced', 'dzkrizocfberkeleyedu', 'crameroptilinkcom', 'complaining', 'cleansing', 'cigarette', 'chastity', 'campbell', 'bigotry', 'benedikt', 'authorized', 'arthur', 'argued', 'altogether', 'aimed', 'afternoon', 'absence', 'vacuum', 'tracer', 'sync', 'stopping', 'sticker', 'stayed', 'stadium', 'sole', 'simm', 'seperate', 'robin', 'recording', 'rally', 'posse', 'painful', 'oral', 'morgan', 'morally', 'locate', 'loading', 'henrik', 'hartford', 'guest', 'functionality', 'extermination', 'explaining', 'dot', 'destroying', 'debt', 'creationism', 'coprocessor', 'convertible', 'condemn', 'c650', 'astronomer', 'accepting', 'trivial', 'transmit', 'theodore', 'statistical', 'stanford', 'stance', 'sphere', 'sinful', 'ross', 'righteous', 'radical', 'protein', 'maxtor', 'locked', 'limbaugh', 'lawabiding', 'kendig', 'joy', 'iraqi', 'interaction', 'inexpensive', 'humor', 'hostage', 'fruit', 'fresh', 'frequent', 'formerly', 'examination', 'enable', 'electricity', 'drinking', 'discovery', 'discover', 'confuse', 'ceremony', 'cassette', 'cardinal', 'begun', 'aluminum', 'accused', 'yellow', 'workshop', 'wolf', 'utterly', 'thumb', 'tab', 'submission', 'studied', 'smoking', 'settle', 'sabretooth', 'resort', 'relativity', 'reflection', 'reagan', 'prisoner', 'prevention', 'plo', 'overwhelming', 'nyr', 'n3jxp', 'murphy', 'monitoring', 'micro', 'mercury', 'mapped', 'maple', 'ludicrous', 'livni', 'lindros', 'lean', 'isaiah', 'investigate', 'interior', 'inherently', 'inherent', 'hisher', 'grip', 'esdi', 'enforce', 'denning', 'den', 'delta', 'corrupt', 'consortium', 'con', 'cmos', 'chromium', 'carolina', \"apple's\", 'ansi', \"year's\", 'vms', 'tribe', 'skip', 'shortly', 'selfdefense', 'scroll', 'rubber', 'reputation', 'relay', 'reducing', 'recognition', 'rated', 'rain', 'quotation', 'persian', 'paris', 'paranoia', 'oscillator', 'offset', \"o'reilly\", 'norris', 'nicely', 'museum', 'mosque', 'modification', 'mixed', 'mighty', 'loan', 'kurdish', 'integration', 'insane', 'hirschbeck', 'hess', 'handed', 'grew', 'gregory', 'gebcadredslpittedu', 'fuck', 'execute', 'exclusive', 'exciting', 'engage', 'delivered', 'decrypt', 'corresponding', 'convicted', 'contradict', 'confirm', 'collapse', 'civilization', 'cherry', 'boggs', 'balloon', 'answering', 'amplifier', 'amongst', 'activist', 'accord', 'zoology', 'yard', 'ward', 'veteran', 'ugly', 'thief', 'safely', 'rockefeller', 'refresh', 'rayshade', 'preventing', 'politically', 'photograph', 'outlaw', 'outer', 'olwm', 'nvestors', 'novell', 'netherlands', 'methodology', 'meaningful', 'lyme', 'laughed', 'irgun', 'hip', 'goaltender', 'filed', 'extract', 'expanded', 'establishment', 'elaborate', 'economics', 'denying', 'deity', 'countersteering', 'counted', 'correlation', 'copying', 'coffee', 'chart', 'cdtvosstratuscom', 'cdtrocketswstratuscom', 'cant', 'bothered', 'blew', 'beleive', 'apollo', 'anecdotal', 'aerospace', 'wed', 'walter', 'virtue', 'viewed', 'upgraded', 'stack', 'spin', 'shaw', 'restricted', 'restore', 'reaching', 'prospect', 'proceed', 'pot', 'performing', 'owns', 'ott', 'oort', 'moron', 'missile', 'midi', 'melbourne', 'mamma', 'likewise', 'legend', 'laughter', \"larson's\", 'knee', 'kirlian', 'keywords', 'jerk', 'jakebony1bonycom', 'israelite', 'impose', 'hero', 'helicopter', 'heading', 'handbook', 'glenn', 'failing', 'extend', 'explicit', 'expecting', 'ethical', 'equipped', 'enterprise', 'editorial', 'editing', 'diagnosed', 'cryptographic', 'credibility', 'considerable', 'completed', 'builtin', 'bridge', 'bathroom', 'awesome', 'arromdee', 'arrested', '1024x768', 'yugoslavia', 'younger', 'weekly', 'warned', 'utzoohenry', 'utter', 'tongue', 'snail', 'seagate', 'schneider', 'rescorla', 'rectangle', 'rapidly', 'punished', 'prompt', 'predicted', 'praying', 'pitched', 'philosophical', 'permitted', 'pennsylvania', 'parity', 'oxygen', 'overtime', 'obligation', 'moore', 'margin', 'lciii', 'laptop', 'joystick', 'ian', 'humanitarian', 'harmful', 'graphical', 'governor', 'gerry', 'examined', 'dpi', 'distortion', 'differ', 'der', 'defeated', 'declared', 'creative', 'concluded', 'compress', 'compete', 'cica', 'buried', 'bird', 'armored', 'aim', 'acquired', 'acknowledge', \"world's\", 'valentine', 'tutorial', 'trusted', 'transport', 'throttle', 'telecommunication', 'tea', 'swiss', 'survived', 'stress', 'smell', 'shipped', 'secrecy', 'scare', 'repost', 'replacing', 'proposition', 'prohibition', 'presume', 'pole', 'pleased', 'pickup', 'partly', 'obscure', 'oak', 'naive', 'moderator', 'mint', 'mexico', 'magnitude', 'magnetic', 'lowest', 'leather', 'kennedy', 'invited', 'immune', 'hayes', 'grayscale', 'gainey', 'franchise', 'finite', 'fastest', 'existance', 'excessive', 'emission', 'drain', 'download', 'displaying', 'disappear', 'devoted', 'defence', 'damaged', 'creator', 'corrected', 'consumption', 'competing', 'commission', 'coat', 'boring', 'bogus', 'blowing', 'bloody', 'bagged', 'bacteria', 'attend', 'archivename', 'anonymity', 'adjust', 'aaa', 'wrap', 'thug', 'taurus', 'strict', 'shifting', 'sherri', 'sheep', 'shack', 'sensing', 'saudi', 'ritual', 'revision', 'respectively', 'resist', 'represented', 'representation', 'probable', 'practically', 'omission', 'obp', 'oakland', 'meanwhile', 'marry', 'markus', 'maintenance', 'lung', 'jpl', 'invalid', 'intercourse', 'infectious', 'housing', 'hiding', 'frankly', 'forgive', 'fischer', 'encountered', 'edited', 'drew', 'disorder', 'dee', 'dance', 'courtesy', 'corruption', 'conner', 'collected', 'china', 'avoided', 'anatolia', 'accusation', 'yup', 'xforce', 'winfield', 'wax', 'wash', 'voluntary', 'vega', 'veal', 'uuencode', 'twm', 'twenty', 'twelve', 'tue', 'tracking', 'tour', 'thompson', 'terror', 'temp', 'teenager', 'stevens', 'spell', 'selective', 'selanne', 'sect', 'remained', 'qualify', 'provider', 'panther', 'oklahoma', 'observatory', 'obfuscated', 'obedience', 'novel', 'messageid', 'manuscript', 'manufacturing', 'lunatic', 'leo', 'indiana', 'grave', 'freeman', 'fortunately', 'estimated', 'ending', 'dram', 'dial', 'cor', 'columbus', 'calm', 'cabinet', 'benchmark', 'barrel', 'bare', 'backing', 'arromdeejyusenkyoucsjhuedu', 'wasting', 'wasted', 'tyre', 'transformation', 'thu', 'theme', 'territorial', 'technically', 'survival', 'stomach', 'spanish', 'sophisticated', 'sho', 'sci', 'rpm', 'proprietary', 'precise', 'potvin', 'pasadena', 'ongoing', 'olson', 'nutrition', 'norman', 'norm', 'mono', 'mom', 'milk', 'medication', 'maker', 'lopez', 'leak', 'kaldis', 'intentionally', 'ideology', 'hobgoblin', 'harvard', \"gov't\", 'gather', 'fuse', 'fulfilled', 'fraud', 'ext', 'evaluate', 'employ', 'drill', 'dose', 'dorothy', 'diesel', 'darkness', \"clinton's\", 'circular', 'choosing', 'celebrate', 'bolt', 'behave', 'balanced', 'austria', 'astronomical', 'approx', 'applicable', 'alex', 'actively', 'wei', 'uunetpyramidoptilinkcramer', 'urge', 'tune', 'tension', 'surrounded', 'sunview', 'summarize', 'stacker', 'satisfy', 'sampling', 'rus', 'rogers', 'remedy', 'regulated', 'ref', 'practicing', 'potentially', 'pollution', 'pit6', 'phi', 'peripheral', 'orange', 'memorial', 'kuwait', 'killer', 'joined', 'isolated', 'inevitable', 'heshe', 'hash', 'gfci', 'founding', 'foul', 'formatted', 'felix', 'falsehood', 'fake', 'exec', 'ermeni', 'encrypt', 'dunn', 'dsp', 'divided', 'digit', 'deserved', 'denver', 'definite', 'curt', 'creed', 'corinthian', 'cooper', 'contributed', 'commerce', 'clause', 'clarify', 'citizenship', 'chase', 'cesarean', 'celebration', 'captured', 'bubblejet', 'bread', 'boost', 'blindly', 'beyer', 'batch', 'anyways', 'allegation', 'adopted', '800x600', '20th', 'wordperfect', 'vietnam', 'upgrading', 'unfair', 'underlying', 'tracing', 'thin', 'tendency', \"team's\", 'steam', 'stat', 'stalin', 'sponsored', 'sens', 'savior', 'ruth', 'routinely', 'repent', 'reminds', 'recovery', 'priced', 'pressed', 'powered', 'plotting', 'phoenix', 'pedal', 'pagan', 'oregon', 'optical', 'odds', 'occasionally', 'nonprofit', 'nerve', 'mentioning', 'md5', 'mandatory', 'levine', 'lacking', 'kriz', 'jody', 'inclined', 'herring', 'hal', 'grasp', 'fri', 'floating', 'flavor', 'fielding', 'fielder', 'feasible', 'erik', 'enjoyed', 'earl', 'divide', 'distribute', 'disabled', 'decides', 'dealt', 'deadly', 'curtis', 'corporate', 'compact', 'collective', 'cincinnati', 'bure', 'biker', 'bid', 'assured', 'assembled', 'arsenokoitai', 'announce', 'accelerated', 'ab', 'vat', 'ups', 'truetype', 'trinity', 'treaty', 'treating', 'toxic', 'torque', 'terribly', 'supplier', 'substantially', 'studying', 'someday', 'skipjack', 'shouted', 'shorter', 'sensible', 'selfish', 'scared', 'safer', 'richardson', 'recipient', 'react', 'questionable', 'qualified', 'proportion', 'participating', 'pal', 'nist', 'multimedia', 'mixture', 'migraine', 'mid', 'mercy', 'loser', 'liquid', 'landed', 'lance', 'kurt', 'kicked', 'illusion', 'happiness', 'gibson', 'gem', 'gauge', 'flawed', 'evolutionary', 'distinguish', 'distant', 'digitized', 'detected', 'designer', 'denial', 'cosmic', 'continental', 'communicate', 'cape', 'brady', 'bounce', 'booster', 'beth', 'bench', 'barbara', 'arithmetic', 'andi', 'agnostic', 'aged', 'afterwards', '4mb', 'yep', 'witnessed', 'warrior', 'vcr', 'unified', 'turner', 'transistor', 'transformer', 'toolkits', 'texture', 'tar', 'stein', 'sensitivity', 'sco', 'rle', 'purdue', 'purchasing', 'praise', 'pose', 'patrwinguucp', 'pascal', 'outline', 'operated', 'nissan', 'myrto', 'murderer', 'meal', 'marshall', 'logically', 'lightning', 'liability', 'lazy', 'laid', 'knight', \"jesus's\", 'iniquity', 'identification', 'heresy', 'headed', 'harddisk', 'genuine', 'generalization', 'framework', 'fraction', 'fox', 'fort', 'ezekiel', 'esp', 'educated', 'eagle', 'drum', 'dodger', 'disagreement', 'detection', 'democrat', 'craft', 'configure', 'confident', 'composite', 'collins', 'closest', 'chest', 'cad', 'bait', 'assessment', 'amazed']\n"
     ]
    }
   ],
   "source": [
    "#deciding the no. of words to use as feature\n",
    "\n",
    "n = 5000\n",
    "features = wrds[0:n]\n",
    "print(features)"
   ]
  },
  {
   "cell_type": "code",
   "execution_count": 26,
   "metadata": {},
   "outputs": [],
   "source": [
    "#creating a dictionary that contains each document's vocabulary and ocurence of each word of the vocabulary \n",
    "\n",
    "dictionary = {}\n",
    "doc_num = 1\n",
    "for doc_words in list_of_words:\n",
    "    #print(doc_words)\n",
    "    np_doc_words = np.asarray(doc_words)\n",
    "    w, c = np.unique(np_doc_words, return_counts=True)\n",
    "    dictionary[doc_num] = {}\n",
    "    for i in range(len(w)):\n",
    "        dictionary[doc_num][w[i]] = c[i]\n",
    "    doc_num = doc_num + 1"
   ]
  },
  {
   "cell_type": "code",
   "execution_count": 27,
   "metadata": {},
   "outputs": [],
   "source": [
    "#now we make a 2D array having the frequency of each word of our feature set in each individual documents\n",
    "\n",
    "X_train = []\n",
    "for k in dictionary.keys():\n",
    "    row = []\n",
    "    for f in features:\n",
    "        if(f in dictionary[k].keys()):\n",
    "            #if word f is present in the dictionary of the document as a key, its value is copied\n",
    "            #this gives us no. of occurences\n",
    "            row.append(dictionary[k][f]) \n",
    "        else:\n",
    "            #if not present, the no. of occurences is zero\n",
    "            row.append(0)\n",
    "    X_train.append(row)"
   ]
  },
  {
   "cell_type": "code",
   "execution_count": 28,
   "metadata": {},
   "outputs": [],
   "source": [
    "#we convert the X and Y into np array for concatenation and conversion into dataframe\n",
    "\n",
    "X_train = np.asarray(X_train)\n",
    "Y_train = np.asarray(Y_train)"
   ]
  },
  {
   "cell_type": "code",
   "execution_count": 29,
   "metadata": {},
   "outputs": [
    {
     "data": {
      "text/plain": [
       "14997"
      ]
     },
     "execution_count": 29,
     "metadata": {},
     "output_type": "execute_result"
    }
   ],
   "source": [
    "len(X_train)"
   ]
  },
  {
   "cell_type": "code",
   "execution_count": 30,
   "metadata": {},
   "outputs": [
    {
     "data": {
      "text/plain": [
       "14997"
      ]
     },
     "execution_count": 30,
     "metadata": {},
     "output_type": "execute_result"
    }
   ],
   "source": [
    "len(Y_train)"
   ]
  },
  {
   "cell_type": "code",
   "execution_count": 31,
   "metadata": {},
   "outputs": [],
   "source": [
    "list_of_words_test = []\n",
    "\n",
    "for document in doc_test:\n",
    "        list_of_words_test.append(flatten(tokenize(document)))"
   ]
  },
  {
   "cell_type": "code",
   "execution_count": 32,
   "metadata": {},
   "outputs": [],
   "source": [
    "dictionary_test = {}\n",
    "doc_num = 1\n",
    "for doc_words in list_of_words_test:\n",
    "    #print(doc_words)\n",
    "    np_doc_words = np.asarray(doc_words)\n",
    "    w, c = np.unique(np_doc_words, return_counts=True)\n",
    "    dictionary_test[doc_num] = {}\n",
    "    for i in range(len(w)):\n",
    "        dictionary_test[doc_num][w[i]] = c[i]\n",
    "    doc_num = doc_num + 1"
   ]
  },
  {
   "cell_type": "code",
   "execution_count": 33,
   "metadata": {},
   "outputs": [],
   "source": [
    "\n",
    "\n",
    "X_test = []\n",
    "for k in dictionary_test.keys():\n",
    "    row = []\n",
    "    for f in features:\n",
    "        if(f in dictionary_test[k].keys()):\n",
    "            #if word f is present in the dictionary of the document as a key, its value is copied\n",
    "            #this gives us no. of occurences\n",
    "            row.append(dictionary_test[k][f]) \n",
    "        else:\n",
    "            #if not present, the no. of occurences is zero\n",
    "            row.append(0)\n",
    "    X_test.append(row)"
   ]
  },
  {
   "cell_type": "code",
   "execution_count": 34,
   "metadata": {},
   "outputs": [],
   "source": [
    "X_test = np.asarray(X_test)\n",
    "Y_test = np.asarray(Y_test)"
   ]
  },
  {
   "cell_type": "code",
   "execution_count": 35,
   "metadata": {},
   "outputs": [
    {
     "data": {
      "text/plain": [
       "5000"
      ]
     },
     "execution_count": 35,
     "metadata": {},
     "output_type": "execute_result"
    }
   ],
   "source": [
    "len(X_test)"
   ]
  },
  {
   "cell_type": "code",
   "execution_count": 36,
   "metadata": {},
   "outputs": [
    {
     "data": {
      "text/plain": [
       "5000"
      ]
     },
     "execution_count": 36,
     "metadata": {},
     "output_type": "execute_result"
    }
   ],
   "source": [
    "len(Y_test)"
   ]
  },
  {
   "cell_type": "markdown",
   "metadata": {},
   "source": [
    "from sklearn.naive_bayes import MultinomialNB\n",
    "clf = MultinomialNB(alpha =1)\n",
    "clf.fit(X_train, Y_train)"
   ]
  },
  {
   "cell_type": "code",
   "execution_count": 57,
   "metadata": {},
   "outputs": [
    {
     "data": {
      "text/plain": [
       "MultinomialNB(alpha=0.1, class_prior=None, fit_prior=True)"
      ]
     },
     "execution_count": 57,
     "metadata": {},
     "output_type": "execute_result"
    }
   ],
   "source": [
    "from sklearn.naive_bayes import MultinomialNB\n",
    "clf = MultinomialNB(alpha =0.1 )\n",
    "clf.fit(X_train,Y_train)"
   ]
  },
  {
   "cell_type": "code",
   "execution_count": 58,
   "metadata": {},
   "outputs": [],
   "source": [
    "Y_predict = clf.predict(X_test)"
   ]
  },
  {
   "cell_type": "code",
   "execution_count": 59,
   "metadata": {},
   "outputs": [
    {
     "data": {
      "text/plain": [
       "0.7788"
      ]
     },
     "execution_count": 59,
     "metadata": {},
     "output_type": "execute_result"
    }
   ],
   "source": [
    "clf.score(X_test, Y_test)"
   ]
  },
  {
   "cell_type": "code",
   "execution_count": 56,
   "metadata": {},
   "outputs": [
    {
     "name": "stdout",
     "output_type": "stream",
     "text": [
      "                          precision    recall  f1-score   support\n",
      "\n",
      "             alt.atheism       0.56      0.73      0.63       233\n",
      "           comp.graphics       0.55      0.64      0.59       253\n",
      " comp.os.ms-windows.misc       0.77      0.45      0.57       249\n",
      "comp.sys.ibm.pc.hardware       0.56      0.73      0.63       240\n",
      "   comp.sys.mac.hardware       0.85      0.62      0.72       236\n",
      "          comp.windows.x       0.56      0.79      0.65       240\n",
      "            misc.forsale       0.85      0.58      0.69       261\n",
      "               rec.autos       0.79      0.78      0.78       269\n",
      "         rec.motorcycles       0.95      0.71      0.81       284\n",
      "      rec.sport.baseball       0.91      0.83      0.87       248\n",
      "        rec.sport.hockey       0.85      0.95      0.89       231\n",
      "               sci.crypt       0.76      0.83      0.80       233\n",
      "         sci.electronics       0.79      0.57      0.66       244\n",
      "                 sci.med       0.93      0.80      0.86       256\n",
      "               sci.space       0.89      0.76      0.82       246\n",
      "  soc.religion.christian       0.60      0.88      0.71       252\n",
      "      talk.politics.guns       0.66      0.75      0.70       249\n",
      "   talk.politics.mideast       0.82      0.85      0.83       281\n",
      "      talk.politics.misc       0.45      0.67      0.54       259\n",
      "      talk.religion.misc       0.45      0.20      0.28       236\n",
      "\n",
      "               micro avg       0.71      0.71      0.71      5000\n",
      "               macro avg       0.73      0.70      0.70      5000\n",
      "            weighted avg       0.73      0.71      0.70      5000\n",
      "\n"
     ]
    }
   ],
   "source": [
    "from sklearn.metrics import classification_report, confusion_matrix, accuracy_score\n",
    "print(classification_report(Y_test, Y_predict))"
   ]
  },
  {
   "cell_type": "code",
   "execution_count": 41,
   "metadata": {},
   "outputs": [],
   "source": [
    "#Train Scores\n",
    "Y_predict_tr = clf.predict(X_train)"
   ]
  },
  {
   "cell_type": "code",
   "execution_count": 42,
   "metadata": {},
   "outputs": [
    {
     "data": {
      "text/plain": [
       "0.8419683936787358"
      ]
     },
     "execution_count": 42,
     "metadata": {},
     "output_type": "execute_result"
    }
   ],
   "source": [
    "clf.score(X_train, Y_train)"
   ]
  },
  {
   "cell_type": "code",
   "execution_count": 43,
   "metadata": {},
   "outputs": [
    {
     "name": "stdout",
     "output_type": "stream",
     "text": [
      "                          precision    recall  f1-score   support\n",
      "\n",
      "             alt.atheism       0.71      0.85      0.77       767\n",
      "           comp.graphics       0.70      0.78      0.74       747\n",
      " comp.os.ms-windows.misc       0.83      0.78      0.81       751\n",
      "comp.sys.ibm.pc.hardware       0.77      0.83      0.80       760\n",
      "   comp.sys.mac.hardware       0.79      0.89      0.84       764\n",
      "          comp.windows.x       0.89      0.81      0.85       760\n",
      "            misc.forsale       0.87      0.85      0.86       739\n",
      "               rec.autos       0.90      0.90      0.90       731\n",
      "         rec.motorcycles       0.88      0.95      0.91       716\n",
      "      rec.sport.baseball       0.94      0.94      0.94       752\n",
      "        rec.sport.hockey       0.91      0.96      0.93       769\n",
      "               sci.crypt       0.92      0.91      0.92       767\n",
      "         sci.electronics       0.87      0.79      0.83       756\n",
      "                 sci.med       0.94      0.88      0.91       744\n",
      "               sci.space       0.94      0.90      0.92       754\n",
      "  soc.religion.christian       0.85      0.89      0.87       745\n",
      "      talk.politics.guns       0.76      0.89      0.82       751\n",
      "   talk.politics.mideast       0.91      0.87      0.89       719\n",
      "      talk.politics.misc       0.75      0.72      0.74       741\n",
      "      talk.religion.misc       0.75      0.48      0.58       764\n",
      "\n",
      "               micro avg       0.84      0.84      0.84     14997\n",
      "               macro avg       0.84      0.84      0.84     14997\n",
      "            weighted avg       0.84      0.84      0.84     14997\n",
      "\n"
     ]
    }
   ],
   "source": [
    "print(classification_report(Y_train, Y_predict_tr))"
   ]
  }
 ],
 "metadata": {
  "kernelspec": {
   "display_name": "Python 3",
   "language": "python",
   "name": "python3"
  },
  "language_info": {
   "codemirror_mode": {
    "name": "ipython",
    "version": 3
   },
   "file_extension": ".py",
   "mimetype": "text/x-python",
   "name": "python",
   "nbconvert_exporter": "python",
   "pygments_lexer": "ipython3",
   "version": "3.7.1"
  }
 },
 "nbformat": 4,
 "nbformat_minor": 2
}
